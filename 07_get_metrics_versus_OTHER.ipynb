{
 "cells": [
  {
   "cell_type": "code",
   "execution_count": 1,
   "metadata": {},
   "outputs": [
    {
     "data": {
      "text/plain": [
       "'\\nUses a dataset to do train/test but uses ANOTHER dataset as test.\\n\\ntest_size=0.1 (same model metrics as for 0.15)so that train size is a large as possible as this is a routine that does not load in an existing model...TO DO.\\n\\nScaler does not seem to make a difference and can be turned on or off.\\n\\n'"
      ]
     },
     "execution_count": 1,
     "metadata": {},
     "output_type": "execute_result"
    }
   ],
   "source": [
    "\"\"\"\n",
    "Uses a dataset to do train/test but uses ANOTHER dataset as test.\n",
    "\n",
    "test_size=0.1 (same model metrics as for 0.15)so that train size is a large as possible as this is a routine that does not load in an existing model...TO DO.\n",
    "\n",
    "Scaler does not seem to make a difference and can be turned on or off.\n",
    "\n",
    "\"\"\""
   ]
  },
  {
   "cell_type": "code",
   "execution_count": 2,
   "metadata": {},
   "outputs": [
    {
     "ename": "ModuleNotFoundError",
     "evalue": "No module named 'scipy'",
     "output_type": "error",
     "traceback": [
      "\u001b[1;31m---------------------------------------------------------------------------\u001b[0m",
      "\u001b[1;31mModuleNotFoundError\u001b[0m                       Traceback (most recent call last)",
      "Cell \u001b[1;32mIn[2], line 5\u001b[0m\n\u001b[0;32m      3\u001b[0m \u001b[39mimport\u001b[39;00m \u001b[39mmatplotlib\u001b[39;00m\u001b[39m.\u001b[39;00m\u001b[39mpyplot\u001b[39;00m \u001b[39mas\u001b[39;00m \u001b[39mplt\u001b[39;00m\n\u001b[0;32m      4\u001b[0m \u001b[39mimport\u001b[39;00m \u001b[39mseaborn\u001b[39;00m \u001b[39mas\u001b[39;00m \u001b[39msns\u001b[39;00m\n\u001b[1;32m----> 5\u001b[0m \u001b[39mfrom\u001b[39;00m \u001b[39msklearn\u001b[39;00m\u001b[39m.\u001b[39;00m\u001b[39mensemble\u001b[39;00m \u001b[39mimport\u001b[39;00m AdaBoostClassifier\n\u001b[0;32m      6\u001b[0m \u001b[39mfrom\u001b[39;00m \u001b[39msklearn\u001b[39;00m\u001b[39m.\u001b[39;00m\u001b[39mpreprocessing\u001b[39;00m \u001b[39mimport\u001b[39;00m StandardScaler\n\u001b[0;32m      7\u001b[0m \u001b[39mfrom\u001b[39;00m \u001b[39msklearn\u001b[39;00m\u001b[39m.\u001b[39;00m\u001b[39mmodel_selection\u001b[39;00m \u001b[39mimport\u001b[39;00m train_test_split\n",
      "File \u001b[1;32mc:\\Users\\mrcra\\Dropbox\\NIH\\01-NOTEBOOKS\\NIH-REFERENCE-LIBRARY\\PAPER_003\\_DRL_TEST\\venv\\Lib\\site-packages\\sklearn\\__init__.py:82\u001b[0m\n\u001b[0;32m     80\u001b[0m \u001b[39mfrom\u001b[39;00m \u001b[39m.\u001b[39;00m \u001b[39mimport\u001b[39;00m _distributor_init  \u001b[39m# noqa: F401\u001b[39;00m\n\u001b[0;32m     81\u001b[0m \u001b[39mfrom\u001b[39;00m \u001b[39m.\u001b[39;00m \u001b[39mimport\u001b[39;00m __check_build  \u001b[39m# noqa: F401\u001b[39;00m\n\u001b[1;32m---> 82\u001b[0m \u001b[39mfrom\u001b[39;00m \u001b[39m.\u001b[39;00m\u001b[39mbase\u001b[39;00m \u001b[39mimport\u001b[39;00m clone\n\u001b[0;32m     83\u001b[0m \u001b[39mfrom\u001b[39;00m \u001b[39m.\u001b[39;00m\u001b[39mutils\u001b[39;00m\u001b[39m.\u001b[39;00m\u001b[39m_show_versions\u001b[39;00m \u001b[39mimport\u001b[39;00m show_versions\n\u001b[0;32m     85\u001b[0m __all__ \u001b[39m=\u001b[39m [\n\u001b[0;32m     86\u001b[0m     \u001b[39m\"\u001b[39m\u001b[39mcalibration\u001b[39m\u001b[39m\"\u001b[39m,\n\u001b[0;32m     87\u001b[0m     \u001b[39m\"\u001b[39m\u001b[39mcluster\u001b[39m\u001b[39m\"\u001b[39m,\n\u001b[1;32m   (...)\u001b[0m\n\u001b[0;32m    128\u001b[0m     \u001b[39m\"\u001b[39m\u001b[39mshow_versions\u001b[39m\u001b[39m\"\u001b[39m,\n\u001b[0;32m    129\u001b[0m ]\n",
      "File \u001b[1;32mc:\\Users\\mrcra\\Dropbox\\NIH\\01-NOTEBOOKS\\NIH-REFERENCE-LIBRARY\\PAPER_003\\_DRL_TEST\\venv\\Lib\\site-packages\\sklearn\\base.py:17\u001b[0m\n\u001b[0;32m     15\u001b[0m \u001b[39mfrom\u001b[39;00m \u001b[39m.\u001b[39;00m \u001b[39mimport\u001b[39;00m __version__\n\u001b[0;32m     16\u001b[0m \u001b[39mfrom\u001b[39;00m \u001b[39m.\u001b[39;00m\u001b[39m_config\u001b[39;00m \u001b[39mimport\u001b[39;00m get_config\n\u001b[1;32m---> 17\u001b[0m \u001b[39mfrom\u001b[39;00m \u001b[39m.\u001b[39;00m\u001b[39mutils\u001b[39;00m \u001b[39mimport\u001b[39;00m _IS_32BIT\n\u001b[0;32m     18\u001b[0m \u001b[39mfrom\u001b[39;00m \u001b[39m.\u001b[39;00m\u001b[39mutils\u001b[39;00m\u001b[39m.\u001b[39;00m\u001b[39m_set_output\u001b[39;00m \u001b[39mimport\u001b[39;00m _SetOutputMixin\n\u001b[0;32m     19\u001b[0m \u001b[39mfrom\u001b[39;00m \u001b[39m.\u001b[39;00m\u001b[39mutils\u001b[39;00m\u001b[39m.\u001b[39;00m\u001b[39m_tags\u001b[39;00m \u001b[39mimport\u001b[39;00m (\n\u001b[0;32m     20\u001b[0m     _DEFAULT_TAGS,\n\u001b[0;32m     21\u001b[0m )\n",
      "File \u001b[1;32mc:\\Users\\mrcra\\Dropbox\\NIH\\01-NOTEBOOKS\\NIH-REFERENCE-LIBRARY\\PAPER_003\\_DRL_TEST\\venv\\Lib\\site-packages\\sklearn\\utils\\__init__.py:17\u001b[0m\n\u001b[0;32m     15\u001b[0m \u001b[39mimport\u001b[39;00m \u001b[39mwarnings\u001b[39;00m\n\u001b[0;32m     16\u001b[0m \u001b[39mimport\u001b[39;00m \u001b[39mnumpy\u001b[39;00m \u001b[39mas\u001b[39;00m \u001b[39mnp\u001b[39;00m\n\u001b[1;32m---> 17\u001b[0m \u001b[39mfrom\u001b[39;00m \u001b[39mscipy\u001b[39;00m\u001b[39m.\u001b[39;00m\u001b[39msparse\u001b[39;00m \u001b[39mimport\u001b[39;00m issparse\n\u001b[0;32m     19\u001b[0m \u001b[39mfrom\u001b[39;00m \u001b[39m.\u001b[39;00m\u001b[39mmurmurhash\u001b[39;00m \u001b[39mimport\u001b[39;00m murmurhash3_32\n\u001b[0;32m     20\u001b[0m \u001b[39mfrom\u001b[39;00m \u001b[39m.\u001b[39;00m\u001b[39mclass_weight\u001b[39;00m \u001b[39mimport\u001b[39;00m compute_class_weight, compute_sample_weight\n",
      "\u001b[1;31mModuleNotFoundError\u001b[0m: No module named 'scipy'"
     ]
    }
   ],
   "source": [
    "import numpy as np\n",
    "import pandas as pd\n",
    "import matplotlib.pyplot as plt\n",
    "import seaborn as sns\n",
    "from sklearn.ensemble import AdaBoostClassifier\n",
    "from sklearn.preprocessing import StandardScaler\n",
    "from sklearn.model_selection import train_test_split\n",
    "\n",
    "\n",
    "from sklearn.metrics import classification_report,accuracy_score,confusion_matrix\n",
    "from sklearn.metrics import confusion_matrix, ConfusionMatrixDisplay"
   ]
  },
  {
   "cell_type": "code",
   "execution_count": null,
   "metadata": {},
   "outputs": [],
   "source": [
    "SPLIT = 0.175"
   ]
  },
  {
   "cell_type": "code",
   "execution_count": null,
   "metadata": {},
   "outputs": [],
   "source": [
    "df = pd.read_csv(\"./datasets/reduced_features_mlr_datasets/KEEP_RED_MLR_BEST_f2f88ce7-7be6-47c6-abce-e1a2697ac866.csv\")"
   ]
  },
  {
   "cell_type": "code",
   "execution_count": null,
   "metadata": {},
   "outputs": [
    {
     "data": {
      "text/html": [
       "<div>\n",
       "<style scoped>\n",
       "    .dataframe tbody tr th:only-of-type {\n",
       "        vertical-align: middle;\n",
       "    }\n",
       "\n",
       "    .dataframe tbody tr th {\n",
       "        vertical-align: top;\n",
       "    }\n",
       "\n",
       "    .dataframe thead th {\n",
       "        text-align: right;\n",
       "    }\n",
       "</style>\n",
       "<table border=\"1\" class=\"dataframe\">\n",
       "  <thead>\n",
       "    <tr style=\"text-align: right;\">\n",
       "      <th></th>\n",
       "      <th>ZBTB38</th>\n",
       "      <th>EIF5B</th>\n",
       "      <th>LOC157381</th>\n",
       "      <th>LOC641746</th>\n",
       "      <th>NOXO1</th>\n",
       "      <th>NOX3</th>\n",
       "      <th>C11orf87</th>\n",
       "      <th>TXLNB</th>\n",
       "      <th>C16orf3</th>\n",
       "      <th>CACNA1B</th>\n",
       "      <th>...</th>\n",
       "      <th>INADL</th>\n",
       "      <th>PNPT1</th>\n",
       "      <th>C9orf78</th>\n",
       "      <th>FLJ30679</th>\n",
       "      <th>INO80</th>\n",
       "      <th>MLF1</th>\n",
       "      <th>PCM1</th>\n",
       "      <th>RTKN</th>\n",
       "      <th>LOC100133050</th>\n",
       "      <th>target</th>\n",
       "    </tr>\n",
       "  </thead>\n",
       "  <tbody>\n",
       "    <tr>\n",
       "      <th>0</th>\n",
       "      <td>3.167523</td>\n",
       "      <td>3.819321</td>\n",
       "      <td>0.000000</td>\n",
       "      <td>0.262866</td>\n",
       "      <td>0.819806</td>\n",
       "      <td>0.000000</td>\n",
       "      <td>0.721388</td>\n",
       "      <td>0.425510</td>\n",
       "      <td>1.449070</td>\n",
       "      <td>3.981971</td>\n",
       "      <td>...</td>\n",
       "      <td>1.564539</td>\n",
       "      <td>3.148278</td>\n",
       "      <td>4.544430</td>\n",
       "      <td>0.075259</td>\n",
       "      <td>2.924718</td>\n",
       "      <td>2.276985</td>\n",
       "      <td>4.394596</td>\n",
       "      <td>2.680102</td>\n",
       "      <td>0.243213</td>\n",
       "      <td>True</td>\n",
       "    </tr>\n",
       "    <tr>\n",
       "      <th>1</th>\n",
       "      <td>3.641662</td>\n",
       "      <td>3.745280</td>\n",
       "      <td>0.000000</td>\n",
       "      <td>0.000000</td>\n",
       "      <td>1.103652</td>\n",
       "      <td>0.000000</td>\n",
       "      <td>0.577353</td>\n",
       "      <td>0.147442</td>\n",
       "      <td>1.779066</td>\n",
       "      <td>4.275640</td>\n",
       "      <td>...</td>\n",
       "      <td>1.546457</td>\n",
       "      <td>2.956609</td>\n",
       "      <td>4.410836</td>\n",
       "      <td>0.087020</td>\n",
       "      <td>2.675513</td>\n",
       "      <td>2.212196</td>\n",
       "      <td>3.964750</td>\n",
       "      <td>0.951060</td>\n",
       "      <td>0.193554</td>\n",
       "      <td>False</td>\n",
       "    </tr>\n",
       "    <tr>\n",
       "      <th>2</th>\n",
       "      <td>2.961247</td>\n",
       "      <td>4.139911</td>\n",
       "      <td>0.000000</td>\n",
       "      <td>0.000000</td>\n",
       "      <td>0.263718</td>\n",
       "      <td>0.000000</td>\n",
       "      <td>1.336409</td>\n",
       "      <td>0.470296</td>\n",
       "      <td>1.187343</td>\n",
       "      <td>4.228973</td>\n",
       "      <td>...</td>\n",
       "      <td>1.183893</td>\n",
       "      <td>3.276218</td>\n",
       "      <td>4.121438</td>\n",
       "      <td>0.125302</td>\n",
       "      <td>2.651672</td>\n",
       "      <td>2.167136</td>\n",
       "      <td>4.395419</td>\n",
       "      <td>2.545437</td>\n",
       "      <td>0.389720</td>\n",
       "      <td>False</td>\n",
       "    </tr>\n",
       "    <tr>\n",
       "      <th>3</th>\n",
       "      <td>3.386636</td>\n",
       "      <td>3.837247</td>\n",
       "      <td>0.026751</td>\n",
       "      <td>0.000000</td>\n",
       "      <td>0.655745</td>\n",
       "      <td>0.118068</td>\n",
       "      <td>1.077735</td>\n",
       "      <td>0.243218</td>\n",
       "      <td>1.356347</td>\n",
       "      <td>4.186374</td>\n",
       "      <td>...</td>\n",
       "      <td>1.194144</td>\n",
       "      <td>2.758751</td>\n",
       "      <td>4.323276</td>\n",
       "      <td>0.234647</td>\n",
       "      <td>2.604788</td>\n",
       "      <td>2.437555</td>\n",
       "      <td>4.126378</td>\n",
       "      <td>1.915747</td>\n",
       "      <td>0.085250</td>\n",
       "      <td>False</td>\n",
       "    </tr>\n",
       "    <tr>\n",
       "      <th>4</th>\n",
       "      <td>2.638785</td>\n",
       "      <td>4.166145</td>\n",
       "      <td>0.015109</td>\n",
       "      <td>0.000000</td>\n",
       "      <td>0.672023</td>\n",
       "      <td>0.054314</td>\n",
       "      <td>0.169101</td>\n",
       "      <td>1.547479</td>\n",
       "      <td>1.928037</td>\n",
       "      <td>4.313928</td>\n",
       "      <td>...</td>\n",
       "      <td>0.546185</td>\n",
       "      <td>3.340376</td>\n",
       "      <td>4.298790</td>\n",
       "      <td>0.056205</td>\n",
       "      <td>2.523191</td>\n",
       "      <td>2.052520</td>\n",
       "      <td>4.085484</td>\n",
       "      <td>2.678899</td>\n",
       "      <td>0.000000</td>\n",
       "      <td>True</td>\n",
       "    </tr>\n",
       "  </tbody>\n",
       "</table>\n",
       "<p>5 rows × 49 columns</p>\n",
       "</div>"
      ],
      "text/plain": [
       "     ZBTB38     EIF5B  LOC157381  LOC641746     NOXO1      NOX3  C11orf87  \\\n",
       "0  3.167523  3.819321   0.000000   0.262866  0.819806  0.000000  0.721388   \n",
       "1  3.641662  3.745280   0.000000   0.000000  1.103652  0.000000  0.577353   \n",
       "2  2.961247  4.139911   0.000000   0.000000  0.263718  0.000000  1.336409   \n",
       "3  3.386636  3.837247   0.026751   0.000000  0.655745  0.118068  1.077735   \n",
       "4  2.638785  4.166145   0.015109   0.000000  0.672023  0.054314  0.169101   \n",
       "\n",
       "      TXLNB   C16orf3   CACNA1B  ...     INADL     PNPT1   C9orf78  FLJ30679  \\\n",
       "0  0.425510  1.449070  3.981971  ...  1.564539  3.148278  4.544430  0.075259   \n",
       "1  0.147442  1.779066  4.275640  ...  1.546457  2.956609  4.410836  0.087020   \n",
       "2  0.470296  1.187343  4.228973  ...  1.183893  3.276218  4.121438  0.125302   \n",
       "3  0.243218  1.356347  4.186374  ...  1.194144  2.758751  4.323276  0.234647   \n",
       "4  1.547479  1.928037  4.313928  ...  0.546185  3.340376  4.298790  0.056205   \n",
       "\n",
       "      INO80      MLF1      PCM1      RTKN  LOC100133050  target  \n",
       "0  2.924718  2.276985  4.394596  2.680102      0.243213    True  \n",
       "1  2.675513  2.212196  3.964750  0.951060      0.193554   False  \n",
       "2  2.651672  2.167136  4.395419  2.545437      0.389720   False  \n",
       "3  2.604788  2.437555  4.126378  1.915747      0.085250   False  \n",
       "4  2.523191  2.052520  4.085484  2.678899      0.000000    True  \n",
       "\n",
       "[5 rows x 49 columns]"
      ]
     },
     "execution_count": 202,
     "metadata": {},
     "output_type": "execute_result"
    }
   ],
   "source": [
    "df.head()"
   ]
  },
  {
   "cell_type": "code",
   "execution_count": null,
   "metadata": {},
   "outputs": [
    {
     "data": {
      "text/plain": [
       "<AxesSubplot: xlabel='target', ylabel='count'>"
      ]
     },
     "execution_count": 203,
     "metadata": {},
     "output_type": "execute_result"
    },
    {
     "data": {
      "image/png": "[encoded data removed]",
      "text/plain": [
       "<Figure size 640x480 with 1 Axes>"
      ]
     },
     "metadata": {},
     "output_type": "display_data"
    }
   ],
   "source": [
    "sns.countplot(data=df,x='target')"
   ]
  },
  {
   "cell_type": "code",
   "execution_count": null,
   "metadata": {},
   "outputs": [
    {
     "data": {
      "text/html": [
       "<div>\n",
       "<style scoped>\n",
       "    .dataframe tbody tr th:only-of-type {\n",
       "        vertical-align: middle;\n",
       "    }\n",
       "\n",
       "    .dataframe tbody tr th {\n",
       "        vertical-align: top;\n",
       "    }\n",
       "\n",
       "    .dataframe thead th {\n",
       "        text-align: right;\n",
       "    }\n",
       "</style>\n",
       "<table border=\"1\" class=\"dataframe\">\n",
       "  <thead>\n",
       "    <tr style=\"text-align: right;\">\n",
       "      <th></th>\n",
       "      <th>ZBTB38</th>\n",
       "      <th>EIF5B</th>\n",
       "      <th>LOC157381</th>\n",
       "      <th>LOC641746</th>\n",
       "      <th>NOXO1</th>\n",
       "      <th>NOX3</th>\n",
       "      <th>C11orf87</th>\n",
       "      <th>TXLNB</th>\n",
       "      <th>C16orf3</th>\n",
       "      <th>CACNA1B</th>\n",
       "      <th>...</th>\n",
       "      <th>INADL</th>\n",
       "      <th>PNPT1</th>\n",
       "      <th>C9orf78</th>\n",
       "      <th>FLJ30679</th>\n",
       "      <th>INO80</th>\n",
       "      <th>MLF1</th>\n",
       "      <th>PCM1</th>\n",
       "      <th>RTKN</th>\n",
       "      <th>LOC100133050</th>\n",
       "      <th>target</th>\n",
       "    </tr>\n",
       "  </thead>\n",
       "  <tbody>\n",
       "    <tr>\n",
       "      <th>0</th>\n",
       "      <td>3.615216</td>\n",
       "      <td>3.795653</td>\n",
       "      <td>0.017993</td>\n",
       "      <td>0.127209</td>\n",
       "      <td>0.401645</td>\n",
       "      <td>0.259869</td>\n",
       "      <td>1.045716</td>\n",
       "      <td>0.235404</td>\n",
       "      <td>0.994035</td>\n",
       "      <td>3.127488</td>\n",
       "      <td>...</td>\n",
       "      <td>1.139971</td>\n",
       "      <td>3.245879</td>\n",
       "      <td>4.694440</td>\n",
       "      <td>0.09083</td>\n",
       "      <td>2.749453</td>\n",
       "      <td>4.522866</td>\n",
       "      <td>5.129600</td>\n",
       "      <td>3.698152</td>\n",
       "      <td>0.354255</td>\n",
       "      <td>True</td>\n",
       "    </tr>\n",
       "    <tr>\n",
       "      <th>1</th>\n",
       "      <td>2.550637</td>\n",
       "      <td>3.664415</td>\n",
       "      <td>0.017993</td>\n",
       "      <td>0.127209</td>\n",
       "      <td>0.460724</td>\n",
       "      <td>0.000000</td>\n",
       "      <td>0.130793</td>\n",
       "      <td>0.222359</td>\n",
       "      <td>0.994035</td>\n",
       "      <td>2.471427</td>\n",
       "      <td>...</td>\n",
       "      <td>1.139971</td>\n",
       "      <td>2.771562</td>\n",
       "      <td>5.085314</td>\n",
       "      <td>0.09083</td>\n",
       "      <td>2.356403</td>\n",
       "      <td>3.055102</td>\n",
       "      <td>5.138749</td>\n",
       "      <td>2.790566</td>\n",
       "      <td>0.354255</td>\n",
       "      <td>True</td>\n",
       "    </tr>\n",
       "    <tr>\n",
       "      <th>2</th>\n",
       "      <td>3.301822</td>\n",
       "      <td>4.588571</td>\n",
       "      <td>0.017993</td>\n",
       "      <td>0.127209</td>\n",
       "      <td>0.465418</td>\n",
       "      <td>0.037100</td>\n",
       "      <td>0.428774</td>\n",
       "      <td>0.180348</td>\n",
       "      <td>0.994035</td>\n",
       "      <td>3.142982</td>\n",
       "      <td>...</td>\n",
       "      <td>1.139971</td>\n",
       "      <td>2.837368</td>\n",
       "      <td>4.986607</td>\n",
       "      <td>0.09083</td>\n",
       "      <td>2.722558</td>\n",
       "      <td>3.602326</td>\n",
       "      <td>5.765487</td>\n",
       "      <td>2.102950</td>\n",
       "      <td>0.354255</td>\n",
       "      <td>True</td>\n",
       "    </tr>\n",
       "    <tr>\n",
       "      <th>3</th>\n",
       "      <td>2.274956</td>\n",
       "      <td>4.049195</td>\n",
       "      <td>0.017993</td>\n",
       "      <td>0.127209</td>\n",
       "      <td>0.249461</td>\n",
       "      <td>0.072956</td>\n",
       "      <td>0.150267</td>\n",
       "      <td>0.357581</td>\n",
       "      <td>0.994035</td>\n",
       "      <td>3.134538</td>\n",
       "      <td>...</td>\n",
       "      <td>1.139971</td>\n",
       "      <td>3.129634</td>\n",
       "      <td>5.632187</td>\n",
       "      <td>0.09083</td>\n",
       "      <td>2.498458</td>\n",
       "      <td>4.320535</td>\n",
       "      <td>5.331394</td>\n",
       "      <td>3.944474</td>\n",
       "      <td>0.354255</td>\n",
       "      <td>True</td>\n",
       "    </tr>\n",
       "    <tr>\n",
       "      <th>4</th>\n",
       "      <td>3.982117</td>\n",
       "      <td>3.534709</td>\n",
       "      <td>0.017993</td>\n",
       "      <td>0.127209</td>\n",
       "      <td>0.151022</td>\n",
       "      <td>0.000000</td>\n",
       "      <td>0.081272</td>\n",
       "      <td>0.382199</td>\n",
       "      <td>0.994035</td>\n",
       "      <td>2.350664</td>\n",
       "      <td>...</td>\n",
       "      <td>1.139971</td>\n",
       "      <td>2.652117</td>\n",
       "      <td>4.670835</td>\n",
       "      <td>0.09083</td>\n",
       "      <td>2.845540</td>\n",
       "      <td>3.583603</td>\n",
       "      <td>4.686831</td>\n",
       "      <td>1.898990</td>\n",
       "      <td>0.354255</td>\n",
       "      <td>True</td>\n",
       "    </tr>\n",
       "    <tr>\n",
       "      <th>...</th>\n",
       "      <td>...</td>\n",
       "      <td>...</td>\n",
       "      <td>...</td>\n",
       "      <td>...</td>\n",
       "      <td>...</td>\n",
       "      <td>...</td>\n",
       "      <td>...</td>\n",
       "      <td>...</td>\n",
       "      <td>...</td>\n",
       "      <td>...</td>\n",
       "      <td>...</td>\n",
       "      <td>...</td>\n",
       "      <td>...</td>\n",
       "      <td>...</td>\n",
       "      <td>...</td>\n",
       "      <td>...</td>\n",
       "      <td>...</td>\n",
       "      <td>...</td>\n",
       "      <td>...</td>\n",
       "      <td>...</td>\n",
       "      <td>...</td>\n",
       "    </tr>\n",
       "    <tr>\n",
       "      <th>118</th>\n",
       "      <td>3.282917</td>\n",
       "      <td>4.281357</td>\n",
       "      <td>0.017993</td>\n",
       "      <td>0.127209</td>\n",
       "      <td>0.460422</td>\n",
       "      <td>0.081586</td>\n",
       "      <td>0.668056</td>\n",
       "      <td>0.086730</td>\n",
       "      <td>0.994035</td>\n",
       "      <td>3.520611</td>\n",
       "      <td>...</td>\n",
       "      <td>1.139971</td>\n",
       "      <td>3.320527</td>\n",
       "      <td>4.646888</td>\n",
       "      <td>0.09083</td>\n",
       "      <td>3.642898</td>\n",
       "      <td>3.387034</td>\n",
       "      <td>6.570513</td>\n",
       "      <td>2.718020</td>\n",
       "      <td>0.354255</td>\n",
       "      <td>False</td>\n",
       "    </tr>\n",
       "    <tr>\n",
       "      <th>119</th>\n",
       "      <td>3.356769</td>\n",
       "      <td>4.389732</td>\n",
       "      <td>0.017993</td>\n",
       "      <td>0.127209</td>\n",
       "      <td>0.053705</td>\n",
       "      <td>0.502590</td>\n",
       "      <td>0.093509</td>\n",
       "      <td>0.076469</td>\n",
       "      <td>0.994035</td>\n",
       "      <td>4.138315</td>\n",
       "      <td>...</td>\n",
       "      <td>1.139971</td>\n",
       "      <td>3.359979</td>\n",
       "      <td>4.032806</td>\n",
       "      <td>0.09083</td>\n",
       "      <td>3.212031</td>\n",
       "      <td>3.228649</td>\n",
       "      <td>5.909807</td>\n",
       "      <td>2.769943</td>\n",
       "      <td>0.354255</td>\n",
       "      <td>True</td>\n",
       "    </tr>\n",
       "    <tr>\n",
       "      <th>120</th>\n",
       "      <td>3.194065</td>\n",
       "      <td>4.105410</td>\n",
       "      <td>0.017993</td>\n",
       "      <td>0.127209</td>\n",
       "      <td>0.345594</td>\n",
       "      <td>0.000000</td>\n",
       "      <td>0.339767</td>\n",
       "      <td>0.163224</td>\n",
       "      <td>0.994035</td>\n",
       "      <td>3.495746</td>\n",
       "      <td>...</td>\n",
       "      <td>1.139971</td>\n",
       "      <td>3.735241</td>\n",
       "      <td>4.645206</td>\n",
       "      <td>0.09083</td>\n",
       "      <td>3.160086</td>\n",
       "      <td>3.395833</td>\n",
       "      <td>5.629260</td>\n",
       "      <td>3.634465</td>\n",
       "      <td>0.354255</td>\n",
       "      <td>True</td>\n",
       "    </tr>\n",
       "    <tr>\n",
       "      <th>121</th>\n",
       "      <td>2.837711</td>\n",
       "      <td>4.483906</td>\n",
       "      <td>0.017993</td>\n",
       "      <td>0.127209</td>\n",
       "      <td>0.225065</td>\n",
       "      <td>0.007882</td>\n",
       "      <td>0.456674</td>\n",
       "      <td>1.003250</td>\n",
       "      <td>0.994035</td>\n",
       "      <td>3.009523</td>\n",
       "      <td>...</td>\n",
       "      <td>1.139971</td>\n",
       "      <td>4.150657</td>\n",
       "      <td>4.905847</td>\n",
       "      <td>0.09083</td>\n",
       "      <td>3.523223</td>\n",
       "      <td>3.098185</td>\n",
       "      <td>5.951646</td>\n",
       "      <td>3.409334</td>\n",
       "      <td>0.354255</td>\n",
       "      <td>True</td>\n",
       "    </tr>\n",
       "    <tr>\n",
       "      <th>122</th>\n",
       "      <td>2.793638</td>\n",
       "      <td>4.600668</td>\n",
       "      <td>0.017993</td>\n",
       "      <td>0.127209</td>\n",
       "      <td>0.718940</td>\n",
       "      <td>0.000000</td>\n",
       "      <td>0.122876</td>\n",
       "      <td>0.335528</td>\n",
       "      <td>0.994035</td>\n",
       "      <td>3.366241</td>\n",
       "      <td>...</td>\n",
       "      <td>1.139971</td>\n",
       "      <td>3.205785</td>\n",
       "      <td>4.914335</td>\n",
       "      <td>0.09083</td>\n",
       "      <td>2.750645</td>\n",
       "      <td>3.535244</td>\n",
       "      <td>5.727776</td>\n",
       "      <td>3.383043</td>\n",
       "      <td>0.354255</td>\n",
       "      <td>False</td>\n",
       "    </tr>\n",
       "  </tbody>\n",
       "</table>\n",
       "<p>123 rows × 49 columns</p>\n",
       "</div>"
      ],
      "text/plain": [
       "       ZBTB38     EIF5B  LOC157381  LOC641746     NOXO1      NOX3  C11orf87  \\\n",
       "0    3.615216  3.795653   0.017993   0.127209  0.401645  0.259869  1.045716   \n",
       "1    2.550637  3.664415   0.017993   0.127209  0.460724  0.000000  0.130793   \n",
       "2    3.301822  4.588571   0.017993   0.127209  0.465418  0.037100  0.428774   \n",
       "3    2.274956  4.049195   0.017993   0.127209  0.249461  0.072956  0.150267   \n",
       "4    3.982117  3.534709   0.017993   0.127209  0.151022  0.000000  0.081272   \n",
       "..        ...       ...        ...        ...       ...       ...       ...   \n",
       "118  3.282917  4.281357   0.017993   0.127209  0.460422  0.081586  0.668056   \n",
       "119  3.356769  4.389732   0.017993   0.127209  0.053705  0.502590  0.093509   \n",
       "120  3.194065  4.105410   0.017993   0.127209  0.345594  0.000000  0.339767   \n",
       "121  2.837711  4.483906   0.017993   0.127209  0.225065  0.007882  0.456674   \n",
       "122  2.793638  4.600668   0.017993   0.127209  0.718940  0.000000  0.122876   \n",
       "\n",
       "        TXLNB   C16orf3   CACNA1B  ...     INADL     PNPT1   C9orf78  \\\n",
       "0    0.235404  0.994035  3.127488  ...  1.139971  3.245879  4.694440   \n",
       "1    0.222359  0.994035  2.471427  ...  1.139971  2.771562  5.085314   \n",
       "2    0.180348  0.994035  3.142982  ...  1.139971  2.837368  4.986607   \n",
       "3    0.357581  0.994035  3.134538  ...  1.139971  3.129634  5.632187   \n",
       "4    0.382199  0.994035  2.350664  ...  1.139971  2.652117  4.670835   \n",
       "..        ...       ...       ...  ...       ...       ...       ...   \n",
       "118  0.086730  0.994035  3.520611  ...  1.139971  3.320527  4.646888   \n",
       "119  0.076469  0.994035  4.138315  ...  1.139971  3.359979  4.032806   \n",
       "120  0.163224  0.994035  3.495746  ...  1.139971  3.735241  4.645206   \n",
       "121  1.003250  0.994035  3.009523  ...  1.139971  4.150657  4.905847   \n",
       "122  0.335528  0.994035  3.366241  ...  1.139971  3.205785  4.914335   \n",
       "\n",
       "     FLJ30679     INO80      MLF1      PCM1      RTKN  LOC100133050  target  \n",
       "0     0.09083  2.749453  4.522866  5.129600  3.698152      0.354255    True  \n",
       "1     0.09083  2.356403  3.055102  5.138749  2.790566      0.354255    True  \n",
       "2     0.09083  2.722558  3.602326  5.765487  2.102950      0.354255    True  \n",
       "3     0.09083  2.498458  4.320535  5.331394  3.944474      0.354255    True  \n",
       "4     0.09083  2.845540  3.583603  4.686831  1.898990      0.354255    True  \n",
       "..        ...       ...       ...       ...       ...           ...     ...  \n",
       "118   0.09083  3.642898  3.387034  6.570513  2.718020      0.354255   False  \n",
       "119   0.09083  3.212031  3.228649  5.909807  2.769943      0.354255    True  \n",
       "120   0.09083  3.160086  3.395833  5.629260  3.634465      0.354255    True  \n",
       "121   0.09083  3.523223  3.098185  5.951646  3.409334      0.354255    True  \n",
       "122   0.09083  2.750645  3.535244  5.727776  3.383043      0.354255   False  \n",
       "\n",
       "[123 rows x 49 columns]"
      ]
     },
     "execution_count": 204,
     "metadata": {},
     "output_type": "execute_result"
    }
   ],
   "source": [
    "#  ensure OTHER has same shape and features - done over next few cells\n",
    "mlr_cols = df.columns.tolist()\n",
    "# mlr_cols\n",
    "OTHER_DATASET = './datasets/other.csv'\n",
    "other_dataset = pd.read_csv(OTHER_DATASET,low_memory=False)\n",
    "other_dataset_actual = other_dataset['target']\n",
    "# other_dataset = other_dataset.drop(['target'], axis=1)\n",
    "# Ensure OTHER has same set of coulmns\n",
    "other_dataset = other_dataset[mlr_cols]\n",
    "other_dataset"
   ]
  },
  {
   "cell_type": "code",
   "execution_count": null,
   "metadata": {},
   "outputs": [],
   "source": [
    "# other_dataset_actual"
   ]
  },
  {
   "cell_type": "code",
   "execution_count": null,
   "metadata": {},
   "outputs": [
    {
     "data": {
      "text/plain": [
       "(123, 48)"
      ]
     },
     "execution_count": 206,
     "metadata": {},
     "output_type": "execute_result"
    }
   ],
   "source": [
    "other_dataset = other_dataset.drop(['target'], axis=1)\n",
    "other_dataset\n",
    "other_dataset.shape"
   ]
  },
  {
   "attachments": {},
   "cell_type": "markdown",
   "metadata": {},
   "source": [
    "MODEL"
   ]
  },
  {
   "cell_type": "code",
   "execution_count": null,
   "metadata": {},
   "outputs": [
    {
     "data": {
      "text/plain": [
       "(164, 48)"
      ]
     },
     "execution_count": 207,
     "metadata": {},
     "output_type": "execute_result"
    }
   ],
   "source": [
    "# Model evaluation\n",
    "X = df.drop('target',axis=1)\n",
    "y = df['target']\n",
    "X.shape\n"
   ]
  },
  {
   "cell_type": "code",
   "execution_count": null,
   "metadata": {},
   "outputs": [
    {
     "data": {
      "text/plain": [
       "True"
      ]
     },
     "execution_count": 208,
     "metadata": {},
     "output_type": "execute_result"
    }
   ],
   "source": [
    "#  verify cols are same shape\n",
    "other_dataset.shape[1] == X.shape[1]\n",
    "\n"
   ]
  },
  {
   "cell_type": "code",
   "execution_count": null,
   "metadata": {},
   "outputs": [],
   "source": [
    "#  Model\n",
    "X_train, X_test, y_train, y_test = train_test_split(X, y, test_size=SPLIT, random_state=101)\n",
    "#  0.1, 0.15 gives 0.88, 0.2 gives 0.66"
   ]
  },
  {
   "cell_type": "code",
   "execution_count": null,
   "metadata": {},
   "outputs": [],
   "source": [
    "scaler = StandardScaler()\n",
    "# scaling does not seem to affect results\n",
    "\n",
    "X_train = scaler.fit_transform(X_train)\n",
    "X_test = scaler.transform(X_test)\n",
    "other_dataset = scaler.transform(other_dataset)\n"
   ]
  },
  {
   "cell_type": "code",
   "execution_count": null,
   "metadata": {},
   "outputs": [],
   "source": [
    "model = AdaBoostClassifier(algorithm='SAMME.R', base_estimator='deprecated', learning_rate=1.0,n_estimators=50, random_state=1113)\n"
   ]
  },
  {
   "cell_type": "code",
   "execution_count": null,
   "metadata": {},
   "outputs": [
    {
     "data": {
      "text/html": [
       "<style>#sk-container-id-8 {color: black;background-color: white;}#sk-container-id-8 pre{padding: 0;}#sk-container-id-8 div.sk-toggleable {background-color: white;}#sk-container-id-8 label.sk-toggleable__label {cursor: pointer;display: block;width: 100%;margin-bottom: 0;padding: 0.3em;box-sizing: border-box;text-align: center;}#sk-container-id-8 label.sk-toggleable__label-arrow:before {content: \"▸\";float: left;margin-right: 0.25em;color: #696969;}#sk-container-id-8 label.sk-toggleable__label-arrow:hover:before {color: black;}#sk-container-id-8 div.sk-estimator:hover label.sk-toggleable__label-arrow:before {color: black;}#sk-container-id-8 div.sk-toggleable__content {max-height: 0;max-width: 0;overflow: hidden;text-align: left;background-color: #f0f8ff;}#sk-container-id-8 div.sk-toggleable__content pre {margin: 0.2em;color: black;border-radius: 0.25em;background-color: #f0f8ff;}#sk-container-id-8 input.sk-toggleable__control:checked~div.sk-toggleable__content {max-height: 200px;max-width: 100%;overflow: auto;}#sk-container-id-8 input.sk-toggleable__control:checked~label.sk-toggleable__label-arrow:before {content: \"▾\";}#sk-container-id-8 div.sk-estimator input.sk-toggleable__control:checked~label.sk-toggleable__label {background-color: #d4ebff;}#sk-container-id-8 div.sk-label input.sk-toggleable__control:checked~label.sk-toggleable__label {background-color: #d4ebff;}#sk-container-id-8 input.sk-hidden--visually {border: 0;clip: rect(1px 1px 1px 1px);clip: rect(1px, 1px, 1px, 1px);height: 1px;margin: -1px;overflow: hidden;padding: 0;position: absolute;width: 1px;}#sk-container-id-8 div.sk-estimator {font-family: monospace;background-color: #f0f8ff;border: 1px dotted black;border-radius: 0.25em;box-sizing: border-box;margin-bottom: 0.5em;}#sk-container-id-8 div.sk-estimator:hover {background-color: #d4ebff;}#sk-container-id-8 div.sk-parallel-item::after {content: \"\";width: 100%;border-bottom: 1px solid gray;flex-grow: 1;}#sk-container-id-8 div.sk-label:hover label.sk-toggleable__label {background-color: #d4ebff;}#sk-container-id-8 div.sk-serial::before {content: \"\";position: absolute;border-left: 1px solid gray;box-sizing: border-box;top: 0;bottom: 0;left: 50%;z-index: 0;}#sk-container-id-8 div.sk-serial {display: flex;flex-direction: column;align-items: center;background-color: white;padding-right: 0.2em;padding-left: 0.2em;position: relative;}#sk-container-id-8 div.sk-item {position: relative;z-index: 1;}#sk-container-id-8 div.sk-parallel {display: flex;align-items: stretch;justify-content: center;background-color: white;position: relative;}#sk-container-id-8 div.sk-item::before, #sk-container-id-8 div.sk-parallel-item::before {content: \"\";position: absolute;border-left: 1px solid gray;box-sizing: border-box;top: 0;bottom: 0;left: 50%;z-index: -1;}#sk-container-id-8 div.sk-parallel-item {display: flex;flex-direction: column;z-index: 1;position: relative;background-color: white;}#sk-container-id-8 div.sk-parallel-item:first-child::after {align-self: flex-end;width: 50%;}#sk-container-id-8 div.sk-parallel-item:last-child::after {align-self: flex-start;width: 50%;}#sk-container-id-8 div.sk-parallel-item:only-child::after {width: 0;}#sk-container-id-8 div.sk-dashed-wrapped {border: 1px dashed gray;margin: 0 0.4em 0.5em 0.4em;box-sizing: border-box;padding-bottom: 0.4em;background-color: white;}#sk-container-id-8 div.sk-label label {font-family: monospace;font-weight: bold;display: inline-block;line-height: 1.2em;}#sk-container-id-8 div.sk-label-container {text-align: center;}#sk-container-id-8 div.sk-container {/* jupyter's `normalize.less` sets `[hidden] { display: none; }` but bootstrap.min.css set `[hidden] { display: none !important; }` so we also need the `!important` here to be able to override the default hidden behavior on the sphinx rendered scikit-learn.org. See: https://github.com/scikit-learn/scikit-learn/issues/21755 */display: inline-block !important;position: relative;}#sk-container-id-8 div.sk-text-repr-fallback {display: none;}</style><div id=\"sk-container-id-8\" class=\"sk-top-container\"><div class=\"sk-text-repr-fallback\"><pre>AdaBoostClassifier(random_state=1113)</pre><b>In a Jupyter environment, please rerun this cell to show the HTML representation or trust the notebook. <br />On GitHub, the HTML representation is unable to render, please try loading this page with nbviewer.org.</b></div><div class=\"sk-container\" hidden><div class=\"sk-item\"><div class=\"sk-estimator sk-toggleable\"><input class=\"sk-toggleable__control sk-hidden--visually\" id=\"sk-estimator-id-8\" type=\"checkbox\" checked><label for=\"sk-estimator-id-8\" class=\"sk-toggleable__label sk-toggleable__label-arrow\">AdaBoostClassifier</label><div class=\"sk-toggleable__content\"><pre>AdaBoostClassifier(random_state=1113)</pre></div></div></div></div></div>"
      ],
      "text/plain": [
       "AdaBoostClassifier(random_state=1113)"
      ]
     },
     "execution_count": 212,
     "metadata": {},
     "output_type": "execute_result"
    }
   ],
   "source": [
    "model.fit(X_train,y_train)"
   ]
  },
  {
   "cell_type": "code",
   "execution_count": null,
   "metadata": {},
   "outputs": [],
   "source": [
    "predictions = model.predict(X_test)"
   ]
  },
  {
   "cell_type": "code",
   "execution_count": null,
   "metadata": {},
   "outputs": [
    {
     "data": {
      "text/plain": [
       "array([ True, False,  True, False,  True,  True,  True, False,  True,\n",
       "       False,  True, False,  True,  True,  True,  True, False,  True,\n",
       "        True, False,  True,  True, False, False,  True, False,  True,\n",
       "       False, False])"
      ]
     },
     "execution_count": 214,
     "metadata": {},
     "output_type": "execute_result"
    }
   ],
   "source": [
    "predictions"
   ]
  },
  {
   "cell_type": "code",
   "execution_count": null,
   "metadata": {},
   "outputs": [],
   "source": [
    "df_predictions =  pd.DataFrame(predictions)\n",
    "df_predictions.rename({0:'pred'}, axis=1, inplace=True)\n",
    "# df_predictions"
   ]
  },
  {
   "cell_type": "code",
   "execution_count": null,
   "metadata": {},
   "outputs": [],
   "source": [
    "df_y_test = pd.DataFrame(y_test)\n",
    "df_y_test.rename({'target':'actual'}, axis=1, inplace=True)\n",
    "# df_y_test"
   ]
  },
  {
   "cell_type": "code",
   "execution_count": null,
   "metadata": {},
   "outputs": [],
   "source": [
    "\n",
    "# Combine two df with different indexes\n",
    "df_preds=pd.concat([df_y_test,df_predictions],axis=0)\n",
    "df_preds\n",
    "df_results= pd.concat([df_y_test.reset_index(drop=True), df_predictions.reset_index(drop=True)], axis=1)\n",
    "df_results['correct'] = df_results['actual'] == df_results['pred']\n",
    "df_results['correct'] = df_results['correct'].replace({True: 'YES', False: 'NO'})\n",
    "# df_results\n"
   ]
  },
  {
   "attachments": {},
   "cell_type": "markdown",
   "metadata": {},
   "source": [
    "Evaluate MODEL"
   ]
  },
  {
   "cell_type": "code",
   "execution_count": null,
   "metadata": {},
   "outputs": [
    {
     "name": "stdout",
     "output_type": "stream",
     "text": [
      "              precision    recall  f1-score   support\n",
      "\n",
      "       False       0.83      0.83      0.83        12\n",
      "        True       0.88      0.88      0.88        17\n",
      "\n",
      "    accuracy                           0.86        29\n",
      "   macro avg       0.86      0.86      0.86        29\n",
      "weighted avg       0.86      0.86      0.86        29\n",
      "\n"
     ]
    }
   ],
   "source": [
    "print(classification_report(y_test,predictions))"
   ]
  },
  {
   "cell_type": "code",
   "execution_count": null,
   "metadata": {},
   "outputs": [
    {
     "data": {
      "image/png": "[encoded data removed]",
      "text/plain": [
       "<Figure size 640x480 with 2 Axes>"
      ]
     },
     "metadata": {},
     "output_type": "display_data"
    }
   ],
   "source": [
    "cm = confusion_matrix(y_test, predictions, )\n",
    "disp = ConfusionMatrixDisplay(confusion_matrix=cm)\n",
    "disp.plot()\n",
    "plt.show()"
   ]
  },
  {
   "attachments": {},
   "cell_type": "markdown",
   "metadata": {},
   "source": [
    "Evaluation of predictions for OTHER"
   ]
  },
  {
   "cell_type": "code",
   "execution_count": null,
   "metadata": {},
   "outputs": [
    {
     "data": {
      "text/plain": [
       "array([ True,  True,  True,  True,  True,  True,  True, False,  True,\n",
       "        True,  True,  True,  True,  True,  True,  True,  True,  True,\n",
       "        True,  True,  True,  True,  True,  True,  True,  True,  True,\n",
       "        True,  True, False,  True,  True,  True,  True,  True,  True,\n",
       "        True,  True,  True,  True,  True,  True,  True,  True,  True,\n",
       "        True,  True,  True,  True,  True,  True,  True,  True,  True,\n",
       "        True,  True,  True,  True,  True,  True,  True,  True,  True,\n",
       "        True,  True,  True,  True,  True,  True,  True,  True,  True,\n",
       "        True,  True,  True,  True, False, False,  True,  True,  True,\n",
       "        True,  True,  True,  True,  True,  True,  True,  True,  True,\n",
       "        True,  True,  True,  True,  True,  True,  True,  True,  True,\n",
       "        True,  True,  True,  True,  True,  True,  True,  True,  True,\n",
       "        True,  True,  True,  True,  True,  True,  True,  True,  True,\n",
       "        True,  True,  True,  True,  True,  True])"
      ]
     },
     "execution_count": 223,
     "metadata": {},
     "output_type": "execute_result"
    }
   ],
   "source": [
    "predictions = model.predict(other_dataset)\n",
    "predictions"
   ]
  },
  {
   "cell_type": "code",
   "execution_count": null,
   "metadata": {},
   "outputs": [
    {
     "name": "stdout",
     "output_type": "stream",
     "text": [
      "              precision    recall  f1-score   support\n",
      "\n",
      "       False       0.50      0.03      0.06        61\n",
      "        True       0.50      0.97      0.66        62\n",
      "\n",
      "    accuracy                           0.50       123\n",
      "   macro avg       0.50      0.50      0.36       123\n",
      "weighted avg       0.50      0.50      0.36       123\n",
      "\n"
     ]
    }
   ],
   "source": [
    "print(classification_report(other_dataset_actual,predictions))"
   ]
  },
  {
   "cell_type": "code",
   "execution_count": null,
   "metadata": {},
   "outputs": [
    {
     "data": {
      "image/png": "[encoded data removed]",
      "text/plain": [
       "<Figure size 640x480 with 2 Axes>"
      ]
     },
     "metadata": {},
     "output_type": "display_data"
    }
   ],
   "source": [
    "cm = confusion_matrix(other_dataset_actual, predictions, )\n",
    "disp = ConfusionMatrixDisplay(confusion_matrix=cm)\n",
    "disp.plot()\n",
    "plt.show()"
   ]
  }
 ],
 "metadata": {
  "anaconda-cloud": {},
  "kernelspec": {
   "display_name": "venv",
   "language": "python",
   "name": "python3"
  },
  "language_info": {
   "codemirror_mode": {
    "name": "ipython",
    "version": 3
   },
   "file_extension": ".py",
   "mimetype": "text/x-python",
   "name": "python",
   "nbconvert_exporter": "python",
   "pygments_lexer": "ipython3",
   "version": "3.11.1"
  },
  "vscode": {
   "interpreter": {
    "hash": "80acf94ad40ac33bb6d5bca6138fc814a2826f42808072731e568d1a28881687"
   }
  }
 },
 "nbformat": 4,
 "nbformat_minor": 1
}
